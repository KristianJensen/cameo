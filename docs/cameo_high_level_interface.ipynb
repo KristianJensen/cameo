{
 "metadata": {
  "name": "",
  "signature": "sha256:4b96a20c9843e58f1f418e3f8d5663204116150d5ad42953ac2d0e291a220ffd"
 },
 "nbformat": 3,
 "nbformat_minor": 0,
 "worksheets": [
  {
   "cells": [
    {
     "cell_type": "heading",
     "level": 1,
     "metadata": {},
     "source": [
      "High-level interface for users"
     ]
    },
    {
     "cell_type": "markdown",
     "metadata": {},
     "source": [
      "Users primarily interested in using cameo as a tool\n",
      "for enumerating metabolic engineering strategies have access to cameo's advanced programming interface via :mod:`cameo.api`\n",
      "that provides access to potential products (:mod:`cameo.api.products`), host organisms (:mod:`cameo.api.hosts`) and\n",
      "a configurable design function (:attr:`cameo.api.design`). Running :func:`cameo.api.design` requires only minimal input."
     ]
    },
    {
     "cell_type": "code",
     "collapsed": false,
     "input": [
      "import logging\n",
      "logger = logging.getLogger()\n",
      "logger.setLevel(logging.DEBUG)"
     ],
     "language": "python",
     "metadata": {},
     "outputs": [],
     "prompt_number": 1
    },
    {
     "cell_type": "code",
     "collapsed": false,
     "input": [
      "from cameo import api\n",
      "report = api.design(product='L-serine')"
     ],
     "language": "python",
     "metadata": {},
     "outputs": [
      {
       "output_type": "stream",
       "stream": "stderr",
       "text": [
        "DEBUG:optlang.util:Gurobi python bindings not available.\n"
       ]
      },
      {
       "output_type": "stream",
       "stream": "stderr",
       "text": [
        "DEBUG:optlang.util:GLPK python bindings found at /Users/niko/.virtualenvs/cameo2.7.8/lib/python2.7/site-packages/swiglpk-0.1.0-py2.7-macosx-10.10-x86_64.egg\n"
       ]
      },
      {
       "output_type": "stream",
       "stream": "stderr",
       "text": [
        "DEBUG:optlang.util:Mosek python bindings not available.\n"
       ]
      },
      {
       "output_type": "stream",
       "stream": "stderr",
       "text": [
        "DEBUG:optlang.util:CPLEX python bindings found at /Users/niko/.virtualenvs/cameo2.7.8/lib/python2.7/site-packages/cplex\n"
       ]
      }
     ]
    },
    {
     "cell_type": "code",
     "collapsed": false,
     "input": [
      "report"
     ],
     "language": "python",
     "metadata": {},
     "outputs": [
      {
       "metadata": {},
       "output_type": "pyout",
       "prompt_number": 2,
       "text": [
        "{(<cameo.api.hosts.Host at 0x117484410>,\n",
        "  <cameo.api.hosts.ModelFacade at 0x117484550>): [],\n",
        " (<cameo.api.hosts.Host at 0x117484510>,\n",
        "  <cameo.api.hosts.ModelFacade at 0x117484610>): []}"
       ]
      }
     ],
     "prompt_number": 2
    },
    {
     "cell_type": "heading",
     "level": 3,
     "metadata": {},
     "source": [
      "IPython notebook"
     ]
    },
    {
     "cell_type": "markdown",
     "metadata": {},
     "source": [
      "Click [here](http://nbviewer.ipython.org/github/biosustain/cameo/blob/devel/docs/cameo_high_level_interface.ipynb) to download this page as an IPython notebook."
     ]
    }
   ],
   "metadata": {}
  }
 ]
}