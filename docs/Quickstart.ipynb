{
 "metadata": {
  "name": "",
  "signature": "sha256:64b239cdda140555d30f0071c218300dc94a91d040308623f38c83c5d6e2e9ac"
 },
 "nbformat": 3,
 "nbformat_minor": 0,
 "worksheets": [
  {
   "cells": [
    {
     "cell_type": "heading",
     "level": 1,
     "metadata": {},
     "source": [
      "Quickstart"
     ]
    },
    {
     "cell_type": "code",
     "collapsed": false,
     "input": [
      "import pandas\n",
      "pandas.options.display.max_rows = 15\n",
      "from cameo import load_model"
     ],
     "language": "python",
     "metadata": {},
     "outputs": [],
     "prompt_number": 26
    },
    {
     "cell_type": "code",
     "collapsed": false,
     "input": [
      "# model = load_model('Ecoli core Model')\n",
      "model = load_model('iJO1366')"
     ],
     "language": "python",
     "metadata": {},
     "outputs": [],
     "prompt_number": 33
    },
    {
     "cell_type": "code",
     "collapsed": false,
     "input": [
      "solution = model.solve()"
     ],
     "language": "python",
     "metadata": {},
     "outputs": [],
     "prompt_number": 34
    },
    {
     "cell_type": "code",
     "collapsed": false,
     "input": [
      "solution.to_frame()"
     ],
     "language": "python",
     "metadata": {},
     "outputs": [
      {
       "html": [
        "<div style=\"max-height:1000px;max-width:1500px;overflow:auto;\">\n",
        "<table border=\"1\" class=\"dataframe\">\n",
        "  <thead>\n",
        "    <tr style=\"text-align: right;\">\n",
        "      <th></th>\n",
        "      <th>fluxes</th>\n",
        "      <th>reduced_costs</th>\n",
        "    </tr>\n",
        "  </thead>\n",
        "  <tbody>\n",
        "    <tr>\n",
        "      <th>DM_4CRSOL</th>\n",
        "      <td> 0.000219</td>\n",
        "      <td> 0.000000</td>\n",
        "    </tr>\n",
        "    <tr>\n",
        "      <th>DM_5DRIB</th>\n",
        "      <td> 0.000221</td>\n",
        "      <td> 0.000000</td>\n",
        "    </tr>\n",
        "    <tr>\n",
        "      <th>DM_AACALD</th>\n",
        "      <td> 0.000000</td>\n",
        "      <td> 0.000000</td>\n",
        "    </tr>\n",
        "    <tr>\n",
        "      <th>DM_AMOB</th>\n",
        "      <td> 0.000002</td>\n",
        "      <td> 0.000000</td>\n",
        "    </tr>\n",
        "    <tr>\n",
        "      <th>DM_MTHTHF</th>\n",
        "      <td> 0.000440</td>\n",
        "      <td> 0.000000</td>\n",
        "    </tr>\n",
        "    <tr>\n",
        "      <th>DM_OXAM</th>\n",
        "      <td> 0.000000</td>\n",
        "      <td> 0.000000</td>\n",
        "    </tr>\n",
        "    <tr>\n",
        "      <th>Ec_biomass_iJO1366_WT_53p95M</th>\n",
        "      <td> 0.000000</td>\n",
        "      <td>-0.963591</td>\n",
        "    </tr>\n",
        "    <tr>\n",
        "      <th>...</th>\n",
        "      <td>...</td>\n",
        "      <td>...</td>\n",
        "    </tr>\n",
        "    <tr>\n",
        "      <th>XYLt2pp</th>\n",
        "      <td> 0.000000</td>\n",
        "      <td> 0.000000</td>\n",
        "    </tr>\n",
        "    <tr>\n",
        "      <th>XYLtex</th>\n",
        "      <td> 0.000000</td>\n",
        "      <td> 0.000000</td>\n",
        "    </tr>\n",
        "    <tr>\n",
        "      <th>ZN2abcpp</th>\n",
        "      <td> 0.000000</td>\n",
        "      <td>-0.004148</td>\n",
        "    </tr>\n",
        "    <tr>\n",
        "      <th>ZN2t3pp</th>\n",
        "      <td> 0.000000</td>\n",
        "      <td>-0.001037</td>\n",
        "    </tr>\n",
        "    <tr>\n",
        "      <th>ZN2tpp</th>\n",
        "      <td> 0.000335</td>\n",
        "      <td> 0.000000</td>\n",
        "    </tr>\n",
        "    <tr>\n",
        "      <th>ZNabcpp</th>\n",
        "      <td> 0.000000</td>\n",
        "      <td>-0.004148</td>\n",
        "    </tr>\n",
        "    <tr>\n",
        "      <th>Zn2tex</th>\n",
        "      <td> 0.000335</td>\n",
        "      <td> 0.000000</td>\n",
        "    </tr>\n",
        "  </tbody>\n",
        "</table>\n",
        "<p>2583 rows \u00d7 2 columns</p>\n",
        "</div>"
       ],
       "metadata": {},
       "output_type": "pyout",
       "prompt_number": 35,
       "text": [
        "                                fluxes  reduced_costs\n",
        "DM_4CRSOL                     0.000219       0.000000\n",
        "DM_5DRIB                      0.000221       0.000000\n",
        "DM_AACALD                     0.000000       0.000000\n",
        "DM_AMOB                       0.000002       0.000000\n",
        "DM_MTHTHF                     0.000440       0.000000\n",
        "DM_OXAM                       0.000000       0.000000\n",
        "Ec_biomass_iJO1366_WT_53p95M  0.000000      -0.963591\n",
        "...                                ...            ...\n",
        "XYLt2pp                       0.000000       0.000000\n",
        "XYLtex                        0.000000       0.000000\n",
        "ZN2abcpp                      0.000000      -0.004148\n",
        "ZN2t3pp                       0.000000      -0.001037\n",
        "ZN2tpp                        0.000335       0.000000\n",
        "ZNabcpp                       0.000000      -0.004148\n",
        "Zn2tex                        0.000335       0.000000\n",
        "\n",
        "[2583 rows x 2 columns]"
       ]
      }
     ],
     "prompt_number": 35
    },
    {
     "cell_type": "code",
     "collapsed": false,
     "input": [],
     "language": "python",
     "metadata": {},
     "outputs": []
    }
   ],
   "metadata": {}
  }
 ]
}