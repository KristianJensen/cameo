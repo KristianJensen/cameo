{
 "metadata": {
  "name": "",
  "signature": "sha256:dba5300f646e9193c1d643edeb2e4ce0f41724a5e1ec75a4c84f0b0f304ba316"
 },
 "nbformat": 3,
 "nbformat_minor": 0,
 "worksheets": [
  {
   "cells": [
    {
     "cell_type": "code",
     "collapsed": false,
     "input": [
      "from cameo.strain_design.heuristic import GeneKnockoutOptimization\n",
      "from cameo import load_model\n",
      "from cameo.strain_design.heuristic.objective_functions import biomass_product_coupled_yield\n",
      "from cameo.flux_analysis.simulation import fba\n",
      "import inspyred\n",
      "import cameo.parallel"
     ],
     "language": "python",
     "metadata": {},
     "outputs": [],
     "prompt_number": 2
    },
    {
     "cell_type": "code",
     "collapsed": false,
     "input": [
      "model = load_model(\"../tests/data/iJO1366.xml\")\n",
      "of = biomass_product_coupled_yield(\"Ec_biomass_iJO1366_core_53p95M\", \"EX_succ_lp_e_rp_\", \"EX_glc_lp_e_rp_\")"
     ],
     "language": "python",
     "metadata": {},
     "outputs": [],
     "prompt_number": 7
    },
    {
     "cell_type": "code",
     "collapsed": false,
     "input": [
      "ko = GeneKnockoutOptimization(model=model, objective_function=of, simulation_method=fba)"
     ],
     "language": "python",
     "metadata": {},
     "outputs": [],
     "prompt_number": 8
    },
    {
     "cell_type": "code",
     "collapsed": false,
     "input": [
      "ko.run(max_evaluations=2000, n=1, \n",
      "       mutation_rate=0.3, view=cameo.parallel.SequentialView(), \n",
      "       product=\"EX_succ_LPAREN_e_RPAREN_\", num_elites=1)"
     ],
     "language": "python",
     "metadata": {},
     "outputs": [
      {
       "output_type": "stream",
       "stream": "stdout",
       "text": [
        "Starting optimization at Wed, 29 Oct 2014 11:24:37\n"
       ]
      },
      {
       "javascript": [
        "//ce5ff2b1-01cf-4fda-9cfc-5caac3cb0430\n",
        "$(\"head\").append(\"<style> td.pb_widget {     width: auto; } td.pb_widget_fill {     width: 100%; } table.pb {     font-family: monospace;     border: 0;     margin: 0; } table.pb tr { border: 0; } table.pb td {     white-space: nowrap;     border: 0; } div.pb {     border: 1px solid #ddd;     border-radius: 3px; } div.pb_bar {     height: 1.5em; } </style>\")"
       ],
       "metadata": {},
       "output_type": "display_data",
       "text": [
        "<IPython.core.display.Javascript at 0x10f922190>"
       ]
      },
      {
       "javascript": [
        "\n",
        "                  // ce5ff2b1-01cf-4fda-9cfc-5caac3cb0430 -- used to remove this code blob in the end\n",
        "                  IPython.OutputArea.prototype.cleanProgressBar = function(uuids) {\n",
        "                      // filter by uuid-strings \n",
        "                      var myfilter = function(output) { \n",
        "                          var nuids = uuids.length;\n",
        "                          for (var i=0; i<nuids; i++) {\n",
        "                              if (output.hasOwnProperty('html')) {\n",
        "                                  if (output.html.indexOf(uuids[i]) != -1) {\n",
        "                                      return false;\n",
        "                                  }\n",
        "                              }\n",
        "                              if (output.hasOwnProperty('javascript')) {\n",
        "                                  if (output.javascript.indexOf(uuids[i]) != -1) {\n",
        "                                      return false;\n",
        "                                  }\n",
        "                              }\n",
        "                          }\n",
        "                          // keep all others\n",
        "                          return true;\n",
        "                      };\n",
        "\n",
        "                      // Filter the ouputs\n",
        "                      this.outputs = this.outputs.filter(myfilter);\n",
        "                };\n",
        "                "
       ],
       "metadata": {},
       "output_type": "display_data",
       "text": [
        "<IPython.core.display.Javascript at 0x10f922210>"
       ]
      },
      {
       "html": [
        "<div class=\"pb\" id=\"ce5ff2b1-01cf-4fda-9cfc-5caac3cb0430\"><table class=\"pb ui-widget\"><tr>\n",
        "<td class=\"pb_widget\"><div id=\"58e17efe-44ee-4c42-9797-f59c611f97d8\">  0%</div></td>\n",
        "<td class=\"pb_widget_fill\">\n",
        "        <div class=\"pb_bar\" id=\"db82843f-77c7-4c40-8d3f-b5299cb62e25\"></div>\n",
        "        <script type=\"text/javascript\">\n",
        "            $(\"div#db82843f-77c7-4c40-8d3f-b5299cb62e25\").progressbar({value: 0, max: 2000});\n",
        "        </script>\n",
        "        </td>\n",
        "</tr></table><div>"
       ],
       "metadata": {},
       "output_type": "display_data",
       "text": [
        "<IPython.core.display.HTML at 0x10f922110>"
       ]
      },
      {
       "javascript": [
        "$('div#58e17efe-44ee-4c42-9797-f59c611f97d8').text('  5%');"
       ],
       "metadata": {},
       "output_type": "display_data",
       "text": [
        "<IPython.core.display.Javascript at 0x10e1f1dd0>"
       ]
      },
      {
       "javascript": [
        "\n",
        "        var $myPB = $(\"div#db82843f-77c7-4c40-8d3f-b5299cb62e25\")\n",
        "        if ($myPB.hasClass('ui-progressbar')) {\n",
        "            $myPB.progressbar('value', 100);\n",
        "        } else {\n",
        "            $myPB.progressbar({value: 0, max: 2000});\n",
        "        }\n",
        "        "
       ],
       "metadata": {},
       "output_type": "display_data",
       "text": [
        "<IPython.core.display.Javascript at 0x10e1f7210>"
       ]
      },
      {
       "javascript": [
        "$('div#58e17efe-44ee-4c42-9797-f59c611f97d8').text(' 10%');"
       ],
       "metadata": {},
       "output_type": "display_data",
       "text": [
        "<IPython.core.display.Javascript at 0x10f929d10>"
       ]
      },
      {
       "javascript": [
        "\n",
        "        var $myPB = $(\"div#db82843f-77c7-4c40-8d3f-b5299cb62e25\")\n",
        "        if ($myPB.hasClass('ui-progressbar')) {\n",
        "            $myPB.progressbar('value', 200);\n",
        "        } else {\n",
        "            $myPB.progressbar({value: 0, max: 2000});\n",
        "        }\n",
        "        "
       ],
       "metadata": {},
       "output_type": "display_data",
       "text": [
        "<IPython.core.display.Javascript at 0x10f929a10>"
       ]
      }
     ]
    },
    {
     "cell_type": "code",
     "collapsed": false,
     "input": [],
     "language": "python",
     "metadata": {},
     "outputs": []
    }
   ],
   "metadata": {}
  }
 ]
}